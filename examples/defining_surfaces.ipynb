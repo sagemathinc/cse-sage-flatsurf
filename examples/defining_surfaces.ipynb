{
 "cells": [
  {
   "cell_type": "markdown",
   "metadata": {
    "collapsed": false
   },
   "source": [
    "# Defining Surfaces in FlatSurf\n",
    "\n",
    "Initial version by Pat Hooper <whooper@ccny.cuny.edu>, Dec 16, 2017."
   ]
  },
  {
   "cell_type": "code",
   "execution_count": 0,
   "metadata": {
    "collapsed": false
   },
   "outputs": [
   ],
   "source": [
    "from flatsurf import *"
   ]
  },
  {
   "cell_type": "markdown",
   "metadata": {
    "collapsed": false
   },
   "source": [
    "## Built in surfaces\n",
    "\n",
    "Veech's double n-gon surfaces:"
   ]
  },
  {
   "cell_type": "code",
   "execution_count": 0,
   "metadata": {
    "collapsed": false
   },
   "outputs": [
   ],
   "source": [
    "s = translation_surfaces.veech_double_n_gon(5)\n",
    "s.plot()"
   ]
  },
  {
   "cell_type": "markdown",
   "metadata": {
    "collapsed": false
   },
   "source": [
    "The Arnoux-Yoccoz surface of arbitrary genus is built in:"
   ]
  },
  {
   "cell_type": "code",
   "execution_count": 0,
   "metadata": {
    "collapsed": false
   },
   "outputs": [
   ],
   "source": [
    "s=translation_surfaces.arnoux_yoccoz(3)\n",
    "s.plot()"
   ]
  },
  {
   "cell_type": "markdown",
   "metadata": {
    "collapsed": false
   },
   "source": [
    "Chamanara's infinite translation surface:"
   ]
  },
  {
   "cell_type": "code",
   "execution_count": 0,
   "metadata": {
    "collapsed": false
   },
   "outputs": [
   ],
   "source": [
    "s=translation_surfaces.chamanara(1/2)"
   ]
  },
  {
   "cell_type": "code",
   "execution_count": 0,
   "metadata": {
    "collapsed": false
   },
   "outputs": [
   ],
   "source": [
    "s.plot(polygon_labels=False,edge_labels=False)"
   ]
  },
  {
   "cell_type": "code",
   "execution_count": 0,
   "metadata": {
    "collapsed": false
   },
   "outputs": [
   ],
   "source": [
    "s=translation_surfaces.infinite_staircase()"
   ]
  },
  {
   "cell_type": "code",
   "execution_count": 0,
   "metadata": {
    "collapsed": false
   },
   "outputs": [
   ],
   "source": [
    "s.plot()"
   ]
  },
  {
   "cell_type": "markdown",
   "metadata": {
    "collapsed": false
   },
   "source": [
    "## Billiard tables"
   ]
  },
  {
   "cell_type": "code",
   "execution_count": 0,
   "metadata": {
    "collapsed": false
   },
   "outputs": [
   ],
   "source": [
    "s=similarity_surfaces.billiard(polygons(vertices=[(0,0), (3,0), (0,4)]))"
   ]
  },
  {
   "cell_type": "code",
   "execution_count": 0,
   "metadata": {
    "collapsed": false
   },
   "outputs": [
   ],
   "source": [
    "s.plot()"
   ]
  },
  {
   "cell_type": "markdown",
   "metadata": {
    "collapsed": false
   },
   "source": [
    "## Minimal translation surface covers\n",
    "\n",
    "Continuing the billiard example above, we get an infinite translation surface below:"
   ]
  },
  {
   "cell_type": "code",
   "execution_count": 0,
   "metadata": {
    "collapsed": false
   },
   "outputs": [
   ],
   "source": [
    "ss = s.minimal_cover(cover_type=\"translation\").copy(relabel=True)"
   ]
  },
  {
   "cell_type": "code",
   "execution_count": 0,
   "metadata": {
    "collapsed": false
   },
   "outputs": [
   ],
   "source": [
    "gs = ss.graphical_surface()"
   ]
  },
  {
   "cell_type": "code",
   "execution_count": 0,
   "metadata": {
    "collapsed": false
   },
   "outputs": [
   ],
   "source": [
    "gs.make_all_visible(limit=12)"
   ]
  },
  {
   "cell_type": "code",
   "execution_count": 0,
   "metadata": {
    "collapsed": false
   },
   "outputs": [
   ],
   "source": [
    "gs.plot()"
   ]
  },
  {
   "cell_type": "markdown",
   "metadata": {
    "collapsed": false
   },
   "source": [
    "## Building surfaces from polygons\n",
    "\n",
    "This defines a regular 12-gon with algebraic real coordinates (AA) with first vector given by (1,0):"
   ]
  },
  {
   "cell_type": "code",
   "execution_count": 0,
   "metadata": {
    "collapsed": false
   },
   "outputs": [
   ],
   "source": [
    "p0 = polygons.regular_ngon(12,field=AA)\n",
    "p1 = polygons.regular_ngon(3,field=AA)"
   ]
  },
  {
   "cell_type": "code",
   "execution_count": 0,
   "metadata": {
    "collapsed": false
   },
   "outputs": [
   ],
   "source": [
    "p0.plot()+p1.plot()"
   ]
  },
  {
   "cell_type": "markdown",
   "metadata": {
    "collapsed": false
   },
   "source": [
    "The vertices of n-gons are numbered by $\\{0,...,n-1\\}$, with the $0$-th vertex at the origin. Edge $i$ joins vertex $i$ to vertex $i+1 \\pmod{n}$.\n",
    "\n",
    "We can act on polygon with $2 \\times 2$ matrices. We define the rotation by $\\frac{\\pi}{6}$ below:"
   ]
  },
  {
   "cell_type": "code",
   "execution_count": 0,
   "metadata": {
    "collapsed": false
   },
   "outputs": [
   ],
   "source": [
    "R = matrix(AA,[[cos(pi/6),-sin(pi/6)],[sin(pi/6),cos(pi/6)]])\n",
    "show(R)"
   ]
  },
  {
   "cell_type": "code",
   "execution_count": 0,
   "metadata": {
    "collapsed": false
   },
   "outputs": [
   ],
   "source": [
    "R*p1"
   ]
  },
  {
   "cell_type": "markdown",
   "metadata": {
    "collapsed": false
   },
   "source": [
    "Define a surface over the field <code>AA</code> of algebraic reals."
   ]
  },
  {
   "cell_type": "code",
   "execution_count": 0,
   "metadata": {
    "collapsed": false
   },
   "outputs": [
   ],
   "source": [
    "surface = Surface_dict(base_ring=AA)"
   ]
  },
  {
   "cell_type": "markdown",
   "metadata": {
    "collapsed": false
   },
   "source": [
    "Add two polygons to the surface with labels 0 and 1:"
   ]
  },
  {
   "cell_type": "code",
   "execution_count": 0,
   "metadata": {
    "collapsed": false
   },
   "outputs": [
   ],
   "source": [
    "surface.add_polygon(p0,label=0)"
   ]
  },
  {
   "cell_type": "code",
   "execution_count": 0,
   "metadata": {
    "collapsed": false
   },
   "outputs": [
   ],
   "source": [
    "surface.add_polygon(p1,label=1)"
   ]
  },
  {
   "cell_type": "markdown",
   "metadata": {
    "collapsed": false
   },
   "source": [
    "Set the \"base label\" for the surface. This is just a choice of a favorite polygon label."
   ]
  },
  {
   "cell_type": "code",
   "execution_count": 0,
   "metadata": {
    "collapsed": false
   },
   "outputs": [
   ],
   "source": [
    "surface.change_base_label(0)"
   ]
  },
  {
   "cell_type": "markdown",
   "metadata": {
    "collapsed": false
   },
   "source": [
    "Glue the edges of polygon 0 to the parallel edges of polygon 1."
   ]
  },
  {
   "cell_type": "code",
   "execution_count": 0,
   "metadata": {
    "collapsed": false
   },
   "outputs": [
   ],
   "source": [
    "surface.change_edge_gluing(0,6,1,0)\n",
    "surface.change_edge_gluing(0,10,1,1)\n",
    "surface.change_edge_gluing(0,2,1,2)"
   ]
  },
  {
   "cell_type": "markdown",
   "metadata": {
    "collapsed": false
   },
   "source": [
    "Add three more rotated triangles and glue them appropriately."
   ]
  },
  {
   "cell_type": "code",
   "execution_count": 0,
   "metadata": {
    "collapsed": false
   },
   "outputs": [
   ],
   "source": [
    "for i in range(1,4):\n",
    "    surface.add_polygon((R**i)*p1,label=i+1)\n",
    "    surface.change_edge_gluing(0,6+i,i+1,0)\n",
    "    surface.change_edge_gluing(0,(10+i)%12,i+1,1)\n",
    "    surface.change_edge_gluing(0,2+i,i+1,2)"
   ]
  },
  {
   "cell_type": "markdown",
   "metadata": {
    "collapsed": false
   },
   "source": [
    "Now we have a closed surface. In fact we have defined a Translation Surface. The package also supports\n",
    "SimilaritySurface, ConeSurface, HalfDilationSurface, DilationSurface, and HalfTranslationSurface."
   ]
  },
  {
   "cell_type": "code",
   "execution_count": 0,
   "metadata": {
    "collapsed": false
   },
   "outputs": [
   ],
   "source": [
    "s=TranslationSurface(surface)"
   ]
  },
  {
   "cell_type": "markdown",
   "metadata": {
    "collapsed": false
   },
   "source": [
    "Test to insure that we created the translation surface correctly. (Errors would be printed if you did not glue parallel edges, or have some unglued edges, etc.)"
   ]
  },
  {
   "cell_type": "code",
   "execution_count": 0,
   "metadata": {
    "collapsed": false
   },
   "outputs": [
   ],
   "source": [
    "TestSuite(s).run(verbose=True)"
   ]
  },
  {
   "cell_type": "markdown",
   "metadata": {
    "collapsed": false
   },
   "source": [
    "We can plot the surface. Edges are labeled according to the polygon they are glued to."
   ]
  },
  {
   "cell_type": "code",
   "execution_count": 0,
   "metadata": {
    "collapsed": false
   },
   "outputs": [
   ],
   "source": [
    "s.plot()"
   ]
  },
  {
   "cell_type": "markdown",
   "metadata": {
    "collapsed": false
   },
   "source": [
    "The field containing the vertices:"
   ]
  },
  {
   "cell_type": "code",
   "execution_count": 0,
   "metadata": {
    "collapsed": false
   },
   "outputs": [
   ],
   "source": [
    "s.base_ring()"
   ]
  },
  {
   "cell_type": "markdown",
   "metadata": {
    "collapsed": false
   },
   "source": [
    "Computations in the Algebraic Real Field (AA) are slow. It is better to use a NumberField. The following finds the smallest embedding into a NumberField:"
   ]
  },
  {
   "cell_type": "code",
   "execution_count": 0,
   "metadata": {
    "collapsed": false
   },
   "outputs": [
   ],
   "source": [
    "ss=s.copy(optimal_number_field=True)"
   ]
  },
  {
   "cell_type": "code",
   "execution_count": 0,
   "metadata": {
    "collapsed": false
   },
   "outputs": [
   ],
   "source": [
    "ss.base_ring()"
   ]
  },
  {
   "cell_type": "markdown",
   "metadata": {
    "collapsed": false
   },
   "source": [
    "## Getting a surface from Flipper\n",
    "\n",
    "<span style=\"color: red; font-weight: bold; \">This does not work as of SageMath 9.0. Code is commented out below.</span>\n",
    "\n",
    "<a href=\"http://flipper.readthedocs.io/en/latest/\">Flipper</a> is a program written by Mark Bell which understands mapping classes and can compute the flat structure associated to a pseudo-Anosov mapping class. FlatSurf can import this structure.\n",
    "\n",
    "This code below requires flipper to be installed. You can do this by running the shell within sage:\n",
    "<code>sage --sh</code>\n",
    "Then within the shell execute:\n",
    "<code>python -m pip install flipper --user --upgrade</code>\n",
    "More information including pitfalls are described in <a href=\"http://flipper.readthedocs.io/en/latest/start.html#installation\">Flipper's installation instructions</a>."
   ]
  },
  {
   "cell_type": "code",
   "execution_count": 0,
   "metadata": {
    "collapsed": false
   },
   "outputs": [
   ],
   "source": [
    "# import flipper"
   ]
  },
  {
   "cell_type": "code",
   "execution_count": 0,
   "metadata": {
    "collapsed": false
   },
   "outputs": [
   ],
   "source": [
    "# T = flipper.load('SB_4')"
   ]
  },
  {
   "cell_type": "code",
   "execution_count": 0,
   "metadata": {
    "collapsed": false
   },
   "outputs": [
   ],
   "source": [
    "# h = T.mapping_class('s_0S_1s_2S_3s_1S_2') "
   ]
  },
  {
   "cell_type": "code",
   "execution_count": 0,
   "metadata": {
    "collapsed": false
   },
   "outputs": [
   ],
   "source": [
    "# h.is_pseudo_anosov()"
   ]
  },
  {
   "cell_type": "code",
   "execution_count": 0,
   "metadata": {
    "collapsed": false
   },
   "outputs": [
   ],
   "source": [
    "# s = translation_surfaces.from_flipper(h)"
   ]
  },
  {
   "cell_type": "markdown",
   "metadata": {
    "collapsed": false
   },
   "source": [
    "The surface s is actually a half translation surface"
   ]
  },
  {
   "cell_type": "code",
   "execution_count": 0,
   "metadata": {
    "collapsed": false
   },
   "outputs": [
   ],
   "source": [
    "# type(s)"
   ]
  },
  {
   "cell_type": "code",
   "execution_count": 0,
   "metadata": {
    "collapsed": false
   },
   "outputs": [
   ],
   "source": [
    "# s.plot()"
   ]
  },
  {
   "cell_type": "markdown",
   "metadata": {
    "collapsed": false
   },
   "source": [
    "## From polyhedra"
   ]
  },
  {
   "cell_type": "code",
   "execution_count": 0,
   "metadata": {
    "collapsed": false
   },
   "outputs": [
   ],
   "source": [
    "from flatsurf.geometry.polyhedra import *"
   ]
  },
  {
   "cell_type": "code",
   "execution_count": 0,
   "metadata": {
    "collapsed": false
   },
   "outputs": [
   ],
   "source": [
    "polyhedron,s,mapping = platonic_dodecahedron()"
   ]
  },
  {
   "cell_type": "markdown",
   "metadata": {
    "collapsed": false
   },
   "source": [
    "The surface $s$ is a Euclidean cone surface."
   ]
  },
  {
   "cell_type": "code",
   "execution_count": 0,
   "metadata": {
    "collapsed": false
   },
   "outputs": [
   ],
   "source": [
    "type(s)"
   ]
  },
  {
   "cell_type": "code",
   "execution_count": 0,
   "metadata": {
    "collapsed": false
   },
   "outputs": [
   ],
   "source": [
    "s.plot()"
   ]
  },
  {
   "cell_type": "markdown",
   "metadata": {
    "collapsed": false
   },
   "source": [
    "Sage has a built in polyhedron class. You can build a polyhedron as a convex hull of a list of vertices."
   ]
  },
  {
   "cell_type": "code",
   "execution_count": 0,
   "metadata": {
    "collapsed": false
   },
   "outputs": [
   ],
   "source": [
    "polyhedron=Polyhedron([(0,0,0),(1,0,0),(0,1,0),(0,0,1)])"
   ]
  },
  {
   "cell_type": "code",
   "execution_count": 0,
   "metadata": {
    "collapsed": false
   },
   "outputs": [
   ],
   "source": [
    "polyhedron.plot()"
   ]
  },
  {
   "cell_type": "markdown",
   "metadata": {
    "collapsed": false
   },
   "source": [
    "The following computes the boundary surface as a Euclidean cone surface. It also provides a map from the surface to the polyhedron."
   ]
  },
  {
   "cell_type": "code",
   "execution_count": 0,
   "metadata": {
    "collapsed": false
   },
   "outputs": [
   ],
   "source": [
    "s,mapping = polyhedron_to_cone_surface(polyhedron)"
   ]
  },
  {
   "cell_type": "code",
   "execution_count": 0,
   "metadata": {
    "collapsed": false
   },
   "outputs": [
   ],
   "source": [
    "s.plot()"
   ]
  },
  {
   "cell_type": "markdown",
   "metadata": {
    "collapsed": false
   },
   "source": [
    "## Defining an infinite surface from scratch\n",
    "\n",
    "The following demonstrates the implementation of a TranslationSurface. Each geometric structure has an underlying \"Surface\". The following defines a surface and then uses it to construct a translation surface."
   ]
  },
  {
   "cell_type": "code",
   "execution_count": 0,
   "metadata": {
    "collapsed": false
   },
   "outputs": [
   ],
   "source": [
    "from flatsurf.geometry.surface import Surface\n",
    "\n",
    "class ParabolaSurface(Surface):\n",
    "    def __init__(self):\n",
    "        # The space of polygons with vertices in the rationals:\n",
    "        self._P = Polygons(QQ)\n",
    "        self._inv = matrix(QQ,[[-1,0],[0,-1]])\n",
    "        \n",
    "        # Set the base field to QQ, the base label to be 1, and note that the surface is infinite.\n",
    "        Surface.__init__(self, QQ, ZZ(1), finite=False)\n",
    "    \n",
    "    def polygon(self, label):\n",
    "        if label not in ZZ:\n",
    "            raise ValueError(\"invalid label {!r}\".format(lab))\n",
    "        assert label != 0, \"Label should not be zero.\"\n",
    "        if label >= 0:\n",
    "            if label==1:\n",
    "                return self._P(vertices=[(0,0),(1,1),(-1,1)])\n",
    "            else:\n",
    "                return self._P( vertices=[\n",
    "                    (label-1, (label-1)**2),\n",
    "                    (label, label**2),\n",
    "                    (-label, label**2),\n",
    "                    (-label+1, (label-1)**2) ] )\n",
    "        else:\n",
    "            return self._inv*self.polygon(-label)\n",
    "\n",
    "    def opposite_edge(self, label, e):\n",
    "        if label not in ZZ:\n",
    "            raise ValueError(\"invalid label {!r}\".format(lab))\n",
    "        assert label != 0, \"Label should not be zero.\"\n",
    "\n",
    "        if label==1 or label==-1:\n",
    "            if e==1:\n",
    "                return 2*label,3\n",
    "            else:\n",
    "                return -label,e\n",
    "        else:\n",
    "            if e==0 or e==2:\n",
    "                return -label,e\n",
    "            if e==1:\n",
    "                if label>0:\n",
    "                    return label+1,3\n",
    "                else:\n",
    "                    return label-1,3\n",
    "            if e==3:\n",
    "                if label>0:\n",
    "                    return label-1,1\n",
    "                else:\n",
    "                    return label+1,1"
   ]
  },
  {
   "cell_type": "code",
   "execution_count": 0,
   "metadata": {
    "collapsed": false
   },
   "outputs": [
   ],
   "source": [
    "s = TranslationSurface(ParabolaSurface())"
   ]
  },
  {
   "cell_type": "code",
   "execution_count": 0,
   "metadata": {
    "collapsed": false
   },
   "outputs": [
   ],
   "source": [
    "TestSuite(s).run(verbose=True, skip=\"_test_pickling\")"
   ]
  },
  {
   "cell_type": "markdown",
   "metadata": {
    "collapsed": false
   },
   "source": [
    "A graphical surface controls the display of graphical data. For an infinite surface you need to configure the display manually."
   ]
  },
  {
   "cell_type": "code",
   "execution_count": 0,
   "metadata": {
    "collapsed": false
   },
   "outputs": [
   ],
   "source": [
    "gs=s.graphical_surface()"
   ]
  },
  {
   "cell_type": "markdown",
   "metadata": {
    "collapsed": false
   },
   "source": [
    "We make six polygons nearest to the polygon with the base label visible."
   ]
  },
  {
   "cell_type": "code",
   "execution_count": 0,
   "metadata": {
    "collapsed": false
   },
   "outputs": [
   ],
   "source": [
    "gs.make_all_visible(limit=6)"
   ]
  },
  {
   "cell_type": "code",
   "execution_count": 0,
   "metadata": {
    "collapsed": false
   },
   "outputs": [
   ],
   "source": [
    "s.plot()"
   ]
  }
 ],
 "metadata": {
  "jupytext": {
   "formats": "ipynb,md:myst"
  },
  "kernelspec": {
   "display_name": "SageMath 9.3",
   "language": "sagemath",
   "metadata": {
    "cocalc": {
     "description": "Open-source mathematical software system",
     "priority": 10,
     "url": "https://www.sagemath.org/"
    }
   },
   "name": "sage-9.3",
   "resource_dir": "/ext/jupyter/kernels/sage-9.3"
  }
 },
 "nbformat": 4,
 "nbformat_minor": 4
}