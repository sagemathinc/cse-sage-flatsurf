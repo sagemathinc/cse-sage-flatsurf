{
 "cells": [
  {
   "cell_type": "markdown",
   "id": "5de1ca56",
   "metadata": {
    "deletable": true,
    "editable": true
   },
   "source": [
    "# The GL(2,R) action, the Veech group, Delaunay decomposition\n",
    "\n",
    "Initial version by Pat Hooper <whooper@ccny.cuny.edu>, Dec 16, 2017."
   ]
  },
  {
   "cell_type": "code",
   "execution_count": null,
   "id": "dde5e7da",
   "metadata": {
    "deletable": true,
    "editable": true,
    "jupyter": {
     "outputs_hidden": true
    }
   },
   "outputs": [],
   "source": [
    "from flatsurf import *"
   ]
  },
  {
   "cell_type": "markdown",
   "id": "8bd7d062",
   "metadata": {
    "deletable": true,
    "editable": true
   },
   "source": [
    "## Acting on surfaces by matrices."
   ]
  },
  {
   "cell_type": "code",
   "execution_count": null,
   "id": "dc130268",
   "metadata": {
    "deletable": true,
    "editable": true,
    "jupyter": {
     "outputs_hidden": true
    }
   },
   "outputs": [],
   "source": [
    "s = translation_surfaces.veech_double_n_gon(5)"
   ]
  },
  {
   "cell_type": "code",
   "execution_count": null,
   "id": "449508e0",
   "metadata": {
    "deletable": true,
    "editable": true,
    "jupyter": {
     "outputs_hidden": false
    }
   },
   "outputs": [],
   "source": [
    "s.plot()"
   ]
  },
  {
   "cell_type": "code",
   "execution_count": null,
   "id": "4cfc2553",
   "metadata": {
    "deletable": true,
    "editable": true,
    "jupyter": {
     "outputs_hidden": false
    }
   },
   "outputs": [],
   "source": [
    "m=matrix([[2,1],[1,1]])"
   ]
  },
  {
   "cell_type": "markdown",
   "id": "5f733866",
   "metadata": {
    "deletable": true,
    "editable": true
   },
   "source": [
    "You can act on surfaces with the $GL(2,R)$ action"
   ]
  },
  {
   "cell_type": "code",
   "execution_count": null,
   "id": "4ba88a00",
   "metadata": {
    "deletable": true,
    "editable": true,
    "jupyter": {
     "outputs_hidden": false
    }
   },
   "outputs": [],
   "source": [
    "ss = m*s\n",
    "ss"
   ]
  },
  {
   "cell_type": "code",
   "execution_count": null,
   "id": "f42a865e",
   "metadata": {
    "deletable": true,
    "editable": true,
    "jupyter": {
     "outputs_hidden": false
    }
   },
   "outputs": [],
   "source": [
    "ss.plot()"
   ]
  },
  {
   "cell_type": "markdown",
   "id": "454644a1",
   "metadata": {
    "deletable": true,
    "editable": true
   },
   "source": [
    "To \"renormalize\" you can improve the presentation using the Delaunay decomposition."
   ]
  },
  {
   "cell_type": "code",
   "execution_count": null,
   "id": "b613e69a",
   "metadata": {
    "deletable": true,
    "editable": true,
    "jupyter": {
     "outputs_hidden": false
    }
   },
   "outputs": [],
   "source": [
    "sss = ss.delaunay_decomposition().copy(relabel=True)"
   ]
  },
  {
   "cell_type": "code",
   "execution_count": null,
   "id": "fdd0c01e",
   "metadata": {
    "deletable": true,
    "editable": true,
    "jupyter": {
     "outputs_hidden": false
    }
   },
   "outputs": [],
   "source": [
    "sss.plot()"
   ]
  },
  {
   "cell_type": "markdown",
   "id": "59b0c45d",
   "metadata": {
    "deletable": true,
    "editable": true
   },
   "source": [
    "## The Veech group\n",
    "\n",
    "Set $s$ to be the double pentagon again."
   ]
  },
  {
   "cell_type": "code",
   "execution_count": null,
   "id": "ef19bc1d",
   "metadata": {
    "deletable": true,
    "editable": true,
    "jupyter": {
     "outputs_hidden": true
    }
   },
   "outputs": [],
   "source": [
    "s = translation_surfaces.veech_double_n_gon(5)"
   ]
  },
  {
   "cell_type": "markdown",
   "id": "522975fe",
   "metadata": {
    "deletable": true,
    "editable": true
   },
   "source": [
    "It is best to work in the field in which the surfact is defined."
   ]
  },
  {
   "cell_type": "code",
   "execution_count": null,
   "id": "9a029ab2",
   "metadata": {
    "deletable": true,
    "editable": true,
    "jupyter": {
     "outputs_hidden": false
    }
   },
   "outputs": [],
   "source": [
    "p=s.polygon(0)\n",
    "p"
   ]
  },
  {
   "cell_type": "markdown",
   "id": "ff5257f5",
   "metadata": {
    "deletable": true,
    "editable": true
   },
   "source": [
    "The surface has a horizontal cylinder decomposition all of whose moduli are given as below"
   ]
  },
  {
   "cell_type": "code",
   "execution_count": null,
   "id": "402a9fd0",
   "metadata": {
    "deletable": true,
    "editable": true,
    "jupyter": {
     "outputs_hidden": false
    }
   },
   "outputs": [],
   "source": [
    "modulus = (p.vertex(3)[1]-p.vertex(2)[1])/(p.vertex(2)[0]-p.vertex(4)[0])\n",
    "AA(modulus)"
   ]
  },
  {
   "cell_type": "code",
   "execution_count": null,
   "id": "0e8665e3",
   "metadata": {
    "deletable": true,
    "editable": true,
    "jupyter": {
     "outputs_hidden": false
    }
   },
   "outputs": [],
   "source": [
    "m = matrix(s.base_ring(),[[1, 1/modulus],[0,1]])\n",
    "show(m)"
   ]
  },
  {
   "cell_type": "code",
   "execution_count": null,
   "id": "e8a9b8a6",
   "metadata": {
    "deletable": true,
    "editable": true,
    "jupyter": {
     "outputs_hidden": false
    }
   },
   "outputs": [],
   "source": [
    "show(matrix(AA,m))"
   ]
  },
  {
   "cell_type": "markdown",
   "id": "4118260e",
   "metadata": {
    "deletable": true,
    "editable": true
   },
   "source": [
    "The following can be used to check that $m$ is in the Veech group of $s$."
   ]
  },
  {
   "cell_type": "code",
   "execution_count": null,
   "id": "5524936f",
   "metadata": {
    "deletable": true,
    "editable": true,
    "jupyter": {
     "outputs_hidden": false
    }
   },
   "outputs": [],
   "source": [
    "s.canonicalize() == (m*s).canonicalize()"
   ]
  },
  {
   "cell_type": "markdown",
   "id": "0124b2b4",
   "metadata": {
    "deletable": true,
    "editable": true
   },
   "source": [
    "## Infinite surfaces\n",
    "\n",
    "Infinite surfaces support multiplication by matrices and computing the Delaunay decomposition. (Computation is done \"lazily\")"
   ]
  },
  {
   "cell_type": "code",
   "execution_count": null,
   "id": "940dbbd0",
   "metadata": {
    "deletable": true,
    "editable": true,
    "jupyter": {
     "outputs_hidden": false
    }
   },
   "outputs": [],
   "source": [
    "s=translation_surfaces.chamanara(1/2)"
   ]
  },
  {
   "cell_type": "code",
   "execution_count": null,
   "id": "d70d98b7",
   "metadata": {
    "deletable": true,
    "editable": true,
    "jupyter": {
     "outputs_hidden": false
    }
   },
   "outputs": [],
   "source": [
    "s.plot(edge_labels=False,polygon_labels=False)"
   ]
  },
  {
   "cell_type": "code",
   "execution_count": null,
   "id": "b0895918",
   "metadata": {
    "deletable": true,
    "editable": true,
    "jupyter": {
     "outputs_hidden": true
    }
   },
   "outputs": [],
   "source": [
    "ss=s.delaunay_decomposition()"
   ]
  },
  {
   "cell_type": "code",
   "execution_count": null,
   "id": "826c8c8a",
   "metadata": {
    "deletable": true,
    "editable": true,
    "jupyter": {
     "outputs_hidden": true
    }
   },
   "outputs": [],
   "source": [
    "ss.graphical_surface().make_all_visible(limit=20)"
   ]
  },
  {
   "cell_type": "code",
   "execution_count": null,
   "id": "96838e1f",
   "metadata": {
    "deletable": true,
    "editable": true,
    "jupyter": {
     "outputs_hidden": false
    }
   },
   "outputs": [],
   "source": [
    "ss.plot(edge_labels=False,polygon_labels=False)"
   ]
  },
  {
   "cell_type": "code",
   "execution_count": null,
   "id": "2f129424",
   "metadata": {
    "deletable": true,
    "editable": true,
    "jupyter": {
     "outputs_hidden": true
    }
   },
   "outputs": [],
   "source": [
    "m = matrix([[2,0],[0,1/2]])"
   ]
  },
  {
   "cell_type": "code",
   "execution_count": null,
   "id": "8aa58468",
   "metadata": {
    "deletable": true,
    "editable": true,
    "jupyter": {
     "outputs_hidden": true
    }
   },
   "outputs": [],
   "source": [
    "ms = m*s"
   ]
  },
  {
   "cell_type": "code",
   "execution_count": null,
   "id": "75d688ba",
   "metadata": {
    "deletable": true,
    "editable": true,
    "jupyter": {
     "outputs_hidden": false
    }
   },
   "outputs": [],
   "source": [
    "ms.graphical_surface().make_all_visible(limit=20)\n",
    "ms.plot(edge_labels=False,polygon_labels=False)"
   ]
  },
  {
   "cell_type": "code",
   "execution_count": null,
   "id": "db844daf",
   "metadata": {
    "deletable": true,
    "editable": true,
    "jupyter": {
     "outputs_hidden": false
    }
   },
   "outputs": [],
   "source": [
    "mss = ms.delaunay_decomposition()"
   ]
  },
  {
   "cell_type": "code",
   "execution_count": null,
   "id": "ffa893a2",
   "metadata": {
    "deletable": true,
    "editable": true,
    "jupyter": {
     "outputs_hidden": false
    }
   },
   "outputs": [],
   "source": [
    "mss.graphical_surface().make_all_visible(limit=20)\n",
    "mss.plot(edge_labels=False,polygon_labels=False)"
   ]
  },
  {
   "cell_type": "markdown",
   "id": "92bf2beb",
   "metadata": {
    "deletable": true,
    "editable": true
   },
   "source": [
    "You can tell from the above picture that $m$ is in the Veech group."
   ]
  }
 ],
 "metadata": {
  "jupytext": {
   "formats": "ipynb,md:myst"
  },
  "kernelspec": {
   "display_name": "SageMath 9.2",
   "language": "sage",
   "name": "sagemath"
  }
 },
 "nbformat": 4,
 "nbformat_minor": 5
}
