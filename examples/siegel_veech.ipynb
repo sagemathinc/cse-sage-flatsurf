{
 "cells": [
  {
   "cell_type": "markdown",
   "id": "f4701a8a",
   "metadata": {},
   "source": [
    "# Siegel-Veech Constants\n",
    "\n",
    "We count the number of cylinders of circumference at most $L$ in a surface.\n",
    "\n",
    "We start by creating a surface with [sage-flatsurf](https://github.com/flatsurf/sage-flatsurf)."
   ]
  },
  {
   "cell_type": "code",
   "execution_count": null,
   "id": "111d86cf",
   "metadata": {},
   "outputs": [],
   "source": [
    "from flatsurf import translation_surfaces\n",
    "S = translation_surfaces.mcmullen_L(1, 1, 1, 1)"
   ]
  },
  {
   "cell_type": "code",
   "execution_count": null,
   "id": "68769c26",
   "metadata": {},
   "outputs": [],
   "source": [
    "S.plot()"
   ]
  },
  {
   "cell_type": "markdown",
   "id": "10a8f4e2",
   "metadata": {},
   "source": [
    "Decomposition of a surface into cylinders is implemented in [pyflatsurf](https://github.com/flatsurf/flatsurf). We triangulate our surface and make sure that its vertices are singularities."
   ]
  },
  {
   "cell_type": "code",
   "execution_count": null,
   "id": "2737bf7d",
   "metadata": {},
   "outputs": [],
   "source": [
    "from flatsurf.geometry.pyflatsurf_conversion import to_pyflatsurf\n",
    "S = to_pyflatsurf(S)\n",
    "S = S.eliminateMarkedPoints().surface()"
   ]
  },
  {
   "cell_type": "markdown",
   "id": "4e6a032f",
   "metadata": {},
   "source": [
    "We will iterate over all directions coming from saddle connections of length at most L (ignoring connections that have the same slope.)"
   ]
  },
  {
   "cell_type": "code",
   "execution_count": null,
   "id": "62d723f5",
   "metadata": {},
   "outputs": [],
   "source": [
    "L = 16R\n",
    "\n",
    "directions = S.connections().bound(L).slopes()"
   ]
  },
  {
   "cell_type": "markdown",
   "id": "8496eafc",
   "metadata": {},
   "source": [
    "For each direction we want to compute a decomposition into cylinders and minimal components. Note that sometimes our algorithm cannot decide whether a component is minimal. However, this is not an issue here: we can stop the decomposition process when a component has become so stretched out that it has no hope of producing a cylinder of circumference $≤L$ anymore.\n",
    "\n",
    "Here we define the target of the decomposition, i.e., a predicate that determines when a decomposition of a component can be stopped:"
   ]
  },
  {
   "cell_type": "code",
   "execution_count": null,
   "id": "5618948d",
   "metadata": {},
   "outputs": [],
   "source": [
    "def target(component):\n",
    "    if component.cylinder():\n",
    "        # This component is a cylinder. No further decomposition needed.\n",
    "        return True\n",
    "    if component.withoutPeriodicTrajectory():\n",
    "        # This component is minimal. Further decomposition will not produce any cylinders.\n",
    "        return True\n",
    "\n",
    "    height = component.height()\n",
    "    \n",
    "    # This height bounds the size of any cylinder. However, it is stretched by the length of the vector\n",
    "    # defining the vertical direction. (That vector is not normalized because that is hard to do in\n",
    "    # general rings…)\n",
    "    from pyflatsurf import flatsurf\n",
    "    bound = (height * height) / flatsurf.Bound.upper(component.vertical().vertical()).squared()\n",
    "    return bound > L"
   ]
  },
  {
   "cell_type": "markdown",
   "id": "3f206ab8",
   "metadata": {},
   "source": [
    "Now we perform the actual decomposition and collect the cylinders of circumference $≤L$:"
   ]
  },
  {
   "cell_type": "code",
   "execution_count": null,
   "id": "c9f26ac1",
   "metadata": {},
   "outputs": [],
   "source": [
    "circumferences = []\n",
    "\n",
    "for direction in directions:\n",
    "    from pyflatsurf import flatsurf\n",
    "    decomposition = flatsurf.makeFlowDecomposition(S, direction.vector())\n",
    "    decomposition.decompose(target)\n",
    "    for component in decomposition.components():\n",
    "        if component.cylinder():\n",
    "            circumference = component.circumferenceHolonomy()\n",
    "            if circumference > L:\n",
    "                continue\n",
    "            circumferences.append(circumference)"
   ]
  },
  {
   "cell_type": "markdown",
   "id": "5dd0cb47",
   "metadata": {},
   "source": [
    "We will plot a histogram of all the cylinders that we found ordered by their length. It would be easy to plot this differently, weighted by the area, …"
   ]
  },
  {
   "cell_type": "code",
   "execution_count": null,
   "id": "8860755a",
   "metadata": {},
   "outputs": [],
   "source": [
    "lengths = [sqrt(float(v.x())**2 + float(v.y())**2) for v in circumferences]\n",
    "\n",
    "import matplotlib.pyplot as plot\n",
    "_ = plot.hist(lengths)\n",
    "_ = plot.xlim(0, L)\n",
    "_ = plot.title(f\"{len(circumferences)} cylinders with length at most {L}\")\n",
    "_ = plot.xlabel('Length')\n",
    "_ = plot.ylabel('Count')"
   ]
  }
 ],
 "metadata": {
  "jupytext": {
   "formats": "ipynb,md:myst,sage:light"
  },
  "kernelspec": {
   "display_name": "SageMath 9.2",
   "language": "sage",
   "name": "sagemath"
  }
 },
 "nbformat": 4,
 "nbformat_minor": 5
}
