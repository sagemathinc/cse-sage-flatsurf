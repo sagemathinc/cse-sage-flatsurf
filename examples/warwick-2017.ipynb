{
 "cells": [
  {
   "cell_type": "markdown",
   "id": "f61c9958",
   "metadata": {
    "deletable": true,
    "editable": true
   },
   "source": [
    "# FlatSurf Demo\n",
    "## Warwick EPSRC Symposium on \"Computation in geometric topology\"\n",
    "By Pat Hooper <whooper@ccny.cuny.edu>\n",
    "\n",
    "This material is based upon work supported by the National Science Foundation under Grant 1500965.\n",
    "\n",
    "FlatSurf is a SAGE module which works with \"flat surfaces\" written so far mostly by Vincent Delecroix and P. H. It is developing in random directions depending on our interests, but we would like it to be as helpful as possible for everyone... We welcome other contributors!\n",
    "\n",
    "To get FlatSurf you first need <a href=\"http://www.sagemath.org/\">SAGE</a>. Then you can get FlatSurf by following the directions here on the <a href=\"https://github.com/videlec/sage-flatsurf#installing-the-module\">FlatSurf GitHub page</a>. (Currently we recommend running \n",
    "\n",
    "<code>sage -pip install git+https://github.com/videlec/sage-flatsurf</code>\n",
    "\n",
    "to install.)"
   ]
  },
  {
   "cell_type": "code",
   "execution_count": null,
   "id": "3e527f05",
   "metadata": {
    "deletable": true,
    "editable": true,
    "jupyter": {
     "outputs_hidden": true
    }
   },
   "outputs": [],
   "source": [
    "from flatsurf import *"
   ]
  },
  {
   "cell_type": "markdown",
   "id": "712a2f29",
   "metadata": {
    "deletable": true,
    "editable": true
   },
   "source": [
    "## Veech Group Elements (Affine symmetries)\n",
    "\n",
    "Veech's double n-gon surfaces:"
   ]
  },
  {
   "cell_type": "code",
   "execution_count": null,
   "id": "cb8fc566",
   "metadata": {
    "deletable": true,
    "editable": true,
    "jupyter": {
     "outputs_hidden": false
    }
   },
   "outputs": [],
   "source": [
    "s = translation_surfaces.veech_double_n_gon(5).canonicalize()\n",
    "s.plot()"
   ]
  },
  {
   "cell_type": "code",
   "execution_count": null,
   "id": "6eb3de59",
   "metadata": {
    "deletable": true,
    "editable": true,
    "jupyter": {
     "outputs_hidden": false
    }
   },
   "outputs": [],
   "source": [
    "p=s.polygon(0)\n",
    "modulus = (p.vertex(3)[1]-p.vertex(2)[1])/(p.vertex(2)[0]-p.vertex(4)[0])\n",
    "AA(modulus)"
   ]
  },
  {
   "cell_type": "code",
   "execution_count": null,
   "id": "804c5885",
   "metadata": {
    "deletable": true,
    "editable": true,
    "jupyter": {
     "outputs_hidden": false
    }
   },
   "outputs": [],
   "source": [
    "m = matrix(s.base_ring(),[[1,2],[0,1]])\n",
    "show(matrix(AA,m))\n",
    "ss = m*s\n",
    "ss.plot()"
   ]
  },
  {
   "cell_type": "code",
   "execution_count": null,
   "id": "d6b9543f",
   "metadata": {
    "deletable": true,
    "editable": true,
    "jupyter": {
     "outputs_hidden": false
    }
   },
   "outputs": [],
   "source": [
    "ss.delaunay_decomposition().plot()"
   ]
  },
  {
   "cell_type": "markdown",
   "id": "339f11ea",
   "metadata": {
    "deletable": true,
    "editable": true
   },
   "source": [
    "The following checks that the matrix m stabilizes s:"
   ]
  },
  {
   "cell_type": "code",
   "execution_count": null,
   "id": "ff8b8c6a",
   "metadata": {
    "deletable": true,
    "editable": true,
    "jupyter": {
     "outputs_hidden": false
    }
   },
   "outputs": [],
   "source": [
    "ss.canonicalize()==s"
   ]
  },
  {
   "cell_type": "markdown",
   "id": "43c7d53e",
   "metadata": {
    "deletable": true,
    "editable": true
   },
   "source": [
    "## Geodesics"
   ]
  },
  {
   "cell_type": "code",
   "execution_count": null,
   "id": "2c56aac3",
   "metadata": {
    "deletable": true,
    "editable": true,
    "jupyter": {
     "outputs_hidden": false
    }
   },
   "outputs": [],
   "source": [
    "s = translation_surfaces.veech_double_n_gon(5)"
   ]
  },
  {
   "cell_type": "markdown",
   "id": "c3e96357",
   "metadata": {
    "deletable": true,
    "editable": true
   },
   "source": [
    "The tangent bundle of the surface:"
   ]
  },
  {
   "cell_type": "code",
   "execution_count": null,
   "id": "6d907fd1",
   "metadata": {
    "deletable": true,
    "editable": true,
    "jupyter": {
     "outputs_hidden": true
    }
   },
   "outputs": [],
   "source": [
    "TB = s.tangent_bundle()"
   ]
  },
  {
   "cell_type": "markdown",
   "id": "119e7d3c",
   "metadata": {
    "deletable": true,
    "editable": true
   },
   "source": [
    "Define a tangent vector in polygon $0$ starting at $(\\frac{1}{2},0)$ and pointed in some direction:"
   ]
  },
  {
   "cell_type": "code",
   "execution_count": null,
   "id": "f9009e64",
   "metadata": {
    "deletable": true,
    "editable": true,
    "jupyter": {
     "outputs_hidden": false
    }
   },
   "outputs": [],
   "source": [
    "direction = s.polygon(0).vertex(2)+3*s.polygon(0).vertex(3)\n",
    "v=TB(0, (1/2,0), direction)"
   ]
  },
  {
   "cell_type": "markdown",
   "id": "9d8a6180",
   "metadata": {
    "deletable": true,
    "editable": true
   },
   "source": [
    "Convert the vector to a straight-line trajectory."
   ]
  },
  {
   "cell_type": "code",
   "execution_count": null,
   "id": "6990b1cc",
   "metadata": {
    "deletable": true,
    "editable": true,
    "jupyter": {
     "outputs_hidden": true
    }
   },
   "outputs": [],
   "source": [
    "traj=v.straight_line_trajectory()"
   ]
  },
  {
   "cell_type": "code",
   "execution_count": null,
   "id": "e1b2cbdf",
   "metadata": {
    "deletable": true,
    "editable": true,
    "jupyter": {
     "outputs_hidden": false
    }
   },
   "outputs": [],
   "source": [
    "s.plot()+traj.plot()"
   ]
  },
  {
   "cell_type": "code",
   "execution_count": null,
   "id": "4012aadd",
   "metadata": {
    "deletable": true,
    "editable": true,
    "jupyter": {
     "outputs_hidden": false
    }
   },
   "outputs": [],
   "source": [
    "traj.flow(1000)\n",
    "print(traj.is_closed())\n",
    "print(traj.combinatorial_length())\n",
    "s.plot()+traj.plot()"
   ]
  },
  {
   "cell_type": "markdown",
   "id": "25617b9d",
   "metadata": {
    "deletable": true,
    "editable": true
   },
   "source": [
    "## Cone surfaces from polyhedra\n",
    "\n",
    "Polyhedra are built into SAGE and you can use them to build a translation surface. In this Demo we only use a built in function for a Platonic Solid."
   ]
  },
  {
   "cell_type": "code",
   "execution_count": null,
   "id": "50ebf9c1",
   "metadata": {
    "deletable": true,
    "editable": true,
    "jupyter": {
     "outputs_hidden": true
    }
   },
   "outputs": [],
   "source": [
    "from flatsurf.geometry.polyhedra import *"
   ]
  },
  {
   "cell_type": "code",
   "execution_count": null,
   "id": "9043534a",
   "metadata": {
    "deletable": true,
    "editable": true,
    "jupyter": {
     "outputs_hidden": true
    }
   },
   "outputs": [],
   "source": [
    "polyhedron,s,mapping = platonic_dodecahedron()"
   ]
  },
  {
   "cell_type": "code",
   "execution_count": null,
   "id": "ad2a0b32",
   "metadata": {
    "deletable": true,
    "editable": true,
    "jupyter": {
     "outputs_hidden": false
    }
   },
   "outputs": [],
   "source": [
    "polyhedron.plot(frame=False)"
   ]
  },
  {
   "cell_type": "code",
   "execution_count": null,
   "id": "6fd7630d",
   "metadata": {
    "deletable": true,
    "editable": true,
    "jupyter": {
     "outputs_hidden": false
    }
   },
   "outputs": [],
   "source": [
    "s.plot(polygon_labels=False,edge_labels=False)"
   ]
  },
  {
   "cell_type": "code",
   "execution_count": null,
   "id": "a13069cc",
   "metadata": {
    "deletable": true,
    "editable": true,
    "jupyter": {
     "outputs_hidden": false
    }
   },
   "outputs": [],
   "source": [
    "TB = s.tangent_bundle()\n",
    "direction = s.polygon(0).vertex(2)+2*s.polygon(0).vertex(3)\n",
    "v=TB(0, (1/2,0), direction)\n",
    "traj=v.straight_line_trajectory()\n",
    "traj.flow(100)\n",
    "print(traj.is_closed())\n",
    "print(traj.combinatorial_length())"
   ]
  },
  {
   "cell_type": "code",
   "execution_count": null,
   "id": "229f00c0",
   "metadata": {
    "deletable": true,
    "editable": true,
    "jupyter": {
     "outputs_hidden": false
    }
   },
   "outputs": [],
   "source": [
    "s.plot()+traj.plot()"
   ]
  },
  {
   "cell_type": "code",
   "execution_count": null,
   "id": "d5348933",
   "metadata": {
    "deletable": true,
    "editable": true,
    "jupyter": {
     "outputs_hidden": false
    }
   },
   "outputs": [],
   "source": [
    "polyhedron.plot(frame=False, point=False, line=False, wireframe=None)+line3d(mapping(traj),radius=0.02, frame=False)"
   ]
  },
  {
   "cell_type": "code",
   "execution_count": null,
   "id": "d7ddbb71",
   "metadata": {
    "deletable": true,
    "editable": true,
    "jupyter": {
     "outputs_hidden": false
    }
   },
   "outputs": [],
   "source": [
    "TB = s.tangent_bundle()\n",
    "direction = s.polygon(0).vertex(2)+3*s.polygon(0).vertex(3)\n",
    "v=TB(0, (1/2,0), direction)\n",
    "traj=v.straight_line_trajectory()\n",
    "traj.flow(1000)\n",
    "print(traj.is_closed())\n",
    "print(traj.combinatorial_length())"
   ]
  },
  {
   "cell_type": "code",
   "execution_count": null,
   "id": "fe770900",
   "metadata": {
    "deletable": true,
    "editable": true,
    "jupyter": {
     "outputs_hidden": false
    }
   },
   "outputs": [],
   "source": [
    "show(s.plot()+traj.plot())"
   ]
  },
  {
   "cell_type": "code",
   "execution_count": null,
   "id": "cf5d07d4",
   "metadata": {
    "deletable": true,
    "editable": true,
    "jupyter": {
     "outputs_hidden": false
    }
   },
   "outputs": [],
   "source": [
    "p = polyhedron.plot(frame=False, point=False, line=False, wireframe=None)+line3d(mapping(traj),radius=0.02, frame=False)\n",
    "show(p,viewer='tachyon',frame=False)"
   ]
  },
  {
   "cell_type": "markdown",
   "id": "3f4386d4",
   "metadata": {
    "deletable": true,
    "editable": true
   },
   "source": [
    "## Relative period deformations"
   ]
  },
  {
   "cell_type": "code",
   "execution_count": null,
   "id": "aa1b88d6",
   "metadata": {
    "deletable": true,
    "editable": true,
    "jupyter": {
     "outputs_hidden": false
    }
   },
   "outputs": [],
   "source": [
    "s = translation_surfaces.veech_2n_gon(5)\n",
    "s.plot(edge_labels=False,polygon_labels=False)"
   ]
  },
  {
   "cell_type": "markdown",
   "id": "9fb14d11",
   "metadata": {
    "deletable": true,
    "editable": true
   },
   "source": [
    "Currently we have to triangulate to do a rel deformation."
   ]
  },
  {
   "cell_type": "code",
   "execution_count": null,
   "id": "20aaf6fd",
   "metadata": {
    "deletable": true,
    "editable": true,
    "jupyter": {
     "outputs_hidden": false
    }
   },
   "outputs": [],
   "source": [
    "s = s.triangulate().copy(relabel=True,mutable=True)"
   ]
  },
  {
   "cell_type": "markdown",
   "id": "1ce2964c",
   "metadata": {
    "deletable": true,
    "editable": true
   },
   "source": [
    "A singularity is an equivalence class of vertices of polygons."
   ]
  },
  {
   "cell_type": "code",
   "execution_count": null,
   "id": "eea24593",
   "metadata": {
    "deletable": true,
    "editable": true,
    "jupyter": {
     "outputs_hidden": false
    }
   },
   "outputs": [],
   "source": [
    "sing = s.singularity(0,0)\n",
    "sing"
   ]
  },
  {
   "cell_type": "markdown",
   "id": "1ad58e1d",
   "metadata": {
    "deletable": true,
    "editable": true
   },
   "source": [
    "We can now deform by moving one singularity relative to the others. Here is a small deformation in the slope one direction."
   ]
  },
  {
   "cell_type": "code",
   "execution_count": null,
   "id": "6ada99e9",
   "metadata": {
    "deletable": true,
    "editable": true,
    "jupyter": {
     "outputs_hidden": false
    }
   },
   "outputs": [],
   "source": [
    "ss=s.rel_deformation({sing:vector(s.base_ring(),(1/20,1/20))})\n",
    "ss.plot()"
   ]
  },
  {
   "cell_type": "markdown",
   "id": "69f347fd",
   "metadata": {
    "deletable": true,
    "editable": true
   },
   "source": [
    "A larger deformation:"
   ]
  },
  {
   "cell_type": "code",
   "execution_count": null,
   "id": "215a13ed",
   "metadata": {
    "deletable": true,
    "editable": true,
    "jupyter": {
     "outputs_hidden": false
    }
   },
   "outputs": [],
   "source": [
    "ss=s.rel_deformation({sing:vector(s.base_ring(),(100,100))})\n",
    "ss.plot()"
   ]
  },
  {
   "cell_type": "markdown",
   "id": "fe9f7a12",
   "metadata": {
    "deletable": true,
    "editable": true
   },
   "source": [
    "## The Necker Cube Surface\n",
    "\n",
    "I'm demonstrating a result (in progress) of Pavel Javornik, an undergraduate at City College of New York."
   ]
  },
  {
   "cell_type": "code",
   "execution_count": null,
   "id": "8f7813e4",
   "metadata": {
    "deletable": true,
    "editable": true,
    "jupyter": {
     "outputs_hidden": false
    }
   },
   "outputs": [],
   "source": [
    "from flatsurf.geometry.straight_line_trajectory import StraightLineTrajectory\n",
    "\n",
    "class SurfaceToSpaceMapping(SageObject):\n",
    "    def __init__(self, similarity_surface, tranformation):\n",
    "        self._s=similarity_surface\n",
    "        from types import FunctionType\n",
    "        if isinstance(transformation,FunctionType):\n",
    "            self.transformation=transformation\n",
    "        \n",
    "    def transformation(self, label):\n",
    "        r\"\"\"\n",
    "        Return a pair (m,t) where m is a 3x2 matrix and v is a vector with 3 entries.\n",
    "        The associated tranformation from the polygon with the given label is v mapsto\n",
    "        m*v+t where v is a point in the polygon.\n",
    "        \"\"\"\n",
    "        return self._t[label]\n",
    "    \n",
    "    def image_polygon(self,label):\n",
    "        r\"\"\"\n",
    "        Return a 2-dimensional polyhedron in 3-space representing the image of the polygon with the given label.\n",
    "        \"\"\"\n",
    "        p = self._s.polygon(label)\n",
    "        m,t = self.transformation(label)\n",
    "        vertices = [ m*v+t for v in p.vertices() ]\n",
    "        return Polyhedron(vertices=vertices)\n",
    "    \n",
    "    def plot(self, labels, point=False, line=False, polygon=None, wireframe=None, frame=False, label_to_color=None):\n",
    "        r\"\"\"\n",
    "        Return a 3d plot of the polygonal images in 3-space corresponding to the collection of labels.\n",
    "        The other parameters are passed to a Polyhedron.plot method and affect the rendering.\n",
    "        \"\"\"\n",
    "        it = iter(labels)\n",
    "        label = next(it)\n",
    "        if label_to_color is None:\n",
    "            p = self.image_polygon(label).plot(point=point, line=line, polygon=polygon, \\\n",
    "                                               wireframe=wireframe,frame=frame,color=\"pink\")\n",
    "        else:\n",
    "            p = self.image_polygon(label).plot(point=point, line=line, polygon=polygon, \\\n",
    "                                               wireframe=wireframe,frame=frame,color=label_to_color(label))            \n",
    "        for label in it:\n",
    "            if label_to_color is None:\n",
    "                p += self.image_polygon(label).plot(point=point, line=line, polygon=polygon, \\\n",
    "                                                   wireframe=wireframe,frame=frame,color=\"pink\")\n",
    "            else:\n",
    "                p += self.image_polygon(label).plot(point=point, line=line, polygon=polygon, \\\n",
    "                                                   wireframe=wireframe,frame=frame,color=label_to_color(label)) \n",
    "        from sage.modules.free_module_element import vector\n",
    "        p.frame_aspect_ratio(tuple(vector(p.bounding_box()[1])-vector(p.bounding_box()[0])))\n",
    "        return p\n",
    "\n",
    "    def __call__(self,o):\n",
    "        r\"\"\"\n",
    "        This method is used to convert from an object on the surface to an object in space.\n",
    "        \n",
    "        Currently works with \n",
    "        - StraightLineTrajectory -- returns the corresponding list of points in space\n",
    "        - SegmentInPolygon -- returns the corresponding pair of points in space\n",
    "        - SimilaritySurfaceTangentVector -- returns a pair of points corresponding to the image point and image of the tangent vector.\n",
    "        \"\"\"\n",
    "        \n",
    "        if isinstance(o, StraightLineTrajectory):\n",
    "            points=[]\n",
    "            it = iter(o.segments())\n",
    "            s=next(it)\n",
    "            label = s.polygon_label()\n",
    "            m,t = self.transformation(label)\n",
    "            \n",
    "            points.append(t + m*s.start().point())\n",
    "            points.append(t + m*s.end().point())\n",
    "            for s in it:\n",
    "                label = s.polygon_label()\n",
    "                m,t = self.transformation(label)\n",
    "                points.append(t + m*s.end().point())\n",
    "            return points\n",
    "        if isinstance(o, SegmentInPolygon):\n",
    "            # Return the pair of images of the endpoints.\n",
    "            label = o.polygon_label()\n",
    "            m,t = self.transformation(label)\n",
    "            return ( t+m*o.start().point(), t+m*o.end().point() )\n",
    "        if isinstance(o,SimilaritySurfaceTangentVector):\n",
    "            # Map to a pair of vectors consisting of the image of the basepoint and the image of the vector.\n",
    "            label = o.polygon_label()\n",
    "            m,t = self.transformation(label)\n",
    "            point = o.point()\n",
    "            vector = o.vector()\n",
    "            return (t + m*point, m*vector)\n",
    "        raise ValueError(\"Failed to recognize type of passed object\")    "
   ]
  },
  {
   "cell_type": "code",
   "execution_count": null,
   "id": "0cc06330",
   "metadata": {
    "deletable": true,
    "editable": true,
    "jupyter": {
     "outputs_hidden": true
    }
   },
   "outputs": [],
   "source": [
    "from flatsurf.geometry.surface import Surface\n",
    "from flatsurf.geometry.polygon import ConvexPolygons\n",
    "from flatsurf.geometry.similarity import SimilarityGroup\n",
    "class CubeSurf(Surface):\n",
    "    def __init__(self,F):\n",
    "        ZZ3=IntegerModRing(3)\n",
    "        P=ConvexPolygons(F)\n",
    "        self._faceA=P(vertices=[(0,0),(1,0),(1,1),(0,1)])\n",
    "        self._faceB=P(vertices=[(0,0),(1,0),(1,1),(0,1)])\n",
    "        self._faceC=P(vertices=[(0,0),(1,0),(1,1),(0,1)])\n",
    "        Surface.__init__(self,F,(ZZ(0),ZZ(0),ZZ3(0)), finite=False)\n",
    "    def polygon(self, label):\n",
    "        x,y,l=label\n",
    "        if l==0:\n",
    "            return self._faceA\n",
    "        if l==1:\n",
    "            return self._faceB\n",
    "        if l==2:\n",
    "            return self._faceC\n",
    "    def opposite_edge(self,label,edge):\n",
    "        x,y,l=label\n",
    "        ## l(0)=A l(1)=B l(2)=C\n",
    "        if l==0:\n",
    "            if edge==0:\n",
    "                return((x,y-1,l+2),2)\n",
    "            if edge==1:\n",
    "                return((x,y,l+1),3)\n",
    "            if edge==2:\n",
    "                return((x,y,l+2),0)\n",
    "            if edge==3:\n",
    "                return((x-1,y,l+1),1)\n",
    "        if l==1:\n",
    "            if edge==0:\n",
    "                return((x+1,y-1,l+1),3)\n",
    "            if edge==1:\n",
    "                return((x+1,y,l+2),3)\n",
    "            if edge==2:\n",
    "                return((x,y,l+1),1)\n",
    "            if edge==3:\n",
    "                return((x,y,l+2),1)\n",
    "        if l==2:\n",
    "            if edge==0:\n",
    "                return((x,y,l+1),2)\n",
    "            if edge==1:\n",
    "                return((x,y,l+2),2)\n",
    "            if edge==2:\n",
    "                return((x,y+1,l+1),0)\n",
    "            if edge==3:\n",
    "                return((x-1,y+1,l+2),0)\n",
    "SG=SimilarityGroup(QQ)\n",
    "def default_position(label):\n",
    "    x,y,l = label\n",
    "    if(ZZ(l)==0):\n",
    "        return SG(2*x,2*y) #(b+c)x,(a+c)y\n",
    "    if(ZZ(l)==1):\n",
    "        return SG(2*x+1,2*y) #(b+c)x + c, (a+c)y\n",
    "    if(ZZ(l)==2):\n",
    "        return SG(2*x,2*y+1) #(b+c)x, (a+c)y + c\n",
    "    ##Reminder to parameterize a,b,c here for positions.\n",
    "    ##Rework this to work for surfaces of different sizes."
   ]
  },
  {
   "cell_type": "code",
   "execution_count": null,
   "id": "fb77b8c6",
   "metadata": {
    "deletable": true,
    "editable": true,
    "jupyter": {
     "outputs_hidden": false
    }
   },
   "outputs": [],
   "source": [
    "s=SimilaritySurface(CubeSurf(QQ))"
   ]
  },
  {
   "cell_type": "code",
   "execution_count": null,
   "id": "89bb66e2",
   "metadata": {
    "deletable": true,
    "editable": true,
    "jupyter": {
     "outputs_hidden": false
    }
   },
   "outputs": [],
   "source": [
    "MM=matrix(QQ,[\n",
    "    [0,1,0],\n",
    "    [-1,0,0],\n",
    "    [0,0,1]\n",
    "])\n",
    "def transformation(label):\n",
    "    M=MatrixSpace(QQ,3,2)\n",
    "    V=VectorSpace(QQ,3)\n",
    "    x,y,l=label\n",
    "    if l==0:\n",
    "        return MM*M([[1,0],[0,1],[0,0]]),MM*V([x,y,-x-y])\n",
    "    elif l==1:\n",
    "        return MM*M([[0,0],[0,1],[-1,0]]),MM*V([x+1,y,-x-y])\n",
    "    else: # l==2\n",
    "        return MM*M([[1,0],[0,0],[0,-1]]),MM*V([x,y+1,-x-y])\n",
    "m=SurfaceToSpaceMapping(s,transformation)\n",
    "def label_to_color(label):\n",
    "    if label[2]==0:\n",
    "        return \"pink\"\n",
    "    if label[2]==1:\n",
    "        return \"yellow\"\n",
    "    if label[2]==2:\n",
    "        return \"beige\""
   ]
  },
  {
   "cell_type": "code",
   "execution_count": null,
   "id": "f4ea8227",
   "metadata": {
    "deletable": true,
    "editable": true,
    "jupyter": {
     "outputs_hidden": false
    }
   },
   "outputs": [],
   "source": [
    "it = s.label_iterator()\n",
    "m.plot({next(it) for i in range(30)},label_to_color=label_to_color)"
   ]
  },
  {
   "cell_type": "markdown",
   "id": "c357d360",
   "metadata": {
    "deletable": true,
    "editable": true
   },
   "source": [
    "<b>Theorem (Pavel Javornik)</b> A trajectory of rational slope (measured on one of the squares interpretted tohave horizontal and vertical sides) on the Necker Cube Surface closes up if and only if the slope can be expressed as the ratio of two odd integers."
   ]
  },
  {
   "cell_type": "code",
   "execution_count": null,
   "id": "1e32b775",
   "metadata": {
    "deletable": true,
    "editable": true,
    "jupyter": {
     "outputs_hidden": true
    }
   },
   "outputs": [],
   "source": [
    "B=s.tangent_bundle()"
   ]
  },
  {
   "cell_type": "markdown",
   "id": "957d1a9d",
   "metadata": {
    "deletable": true,
    "editable": true
   },
   "source": [
    "The following builds a trajectory starting in the base polygon at the point $(\\frac{1}{4}, \\frac{1}{4})$ and traveling in a direction of slope one."
   ]
  },
  {
   "cell_type": "code",
   "execution_count": null,
   "id": "92b8d284",
   "metadata": {
    "deletable": true,
    "editable": true,
    "jupyter": {
     "outputs_hidden": false
    }
   },
   "outputs": [],
   "source": [
    "v=B(s.base_label(),(1/4,1/4),(-1,1))\n",
    "traj=v.straight_line_trajectory()\n",
    "traj.flow(100)\n",
    "if traj.is_closed():\n",
    "    print(\"The trajectory closed up.\")\n",
    "labels=[seg.polygon_label() for seg in traj.segments()]\n",
    "m.plot(labels,label_to_color=label_to_color)+line3d(m(traj),radius=0.02)"
   ]
  },
  {
   "cell_type": "markdown",
   "id": "1edf55bc",
   "metadata": {
    "deletable": true,
    "editable": true
   },
   "source": [
    "A trajectory of slope $5/4$."
   ]
  },
  {
   "cell_type": "code",
   "execution_count": null,
   "id": "9e07c77b",
   "metadata": {
    "deletable": true,
    "editable": true,
    "jupyter": {
     "outputs_hidden": false
    }
   },
   "outputs": [],
   "source": [
    "v=B(s.base_label(),(1/3,1/4),(4,5))\n",
    "traj=v.straight_line_trajectory()\n",
    "traj.flow(50)\n",
    "labels=[seg.polygon_label() for seg in traj.segments()]\n",
    "p=m.plot(labels,label_to_color=label_to_color)+line3d(m(traj),radius=0.04,label_to_color=label_to_color)\n",
    "p.frame_aspect_ratio(tuple(vector(p.bounding_box()[1])-vector(p.bounding_box()[0])))\n",
    "p"
   ]
  },
  {
   "cell_type": "markdown",
   "id": "30ce3313",
   "metadata": {
    "deletable": true,
    "editable": true
   },
   "source": [
    "A trajectory of slope $11/9$"
   ]
  },
  {
   "cell_type": "code",
   "execution_count": null,
   "id": "eecd0799",
   "metadata": {
    "deletable": true,
    "editable": true,
    "jupyter": {
     "outputs_hidden": false
    }
   },
   "outputs": [],
   "source": [
    "v=B(s.base_label(),(1/3,1/4),(9,11))\n",
    "traj=v.straight_line_trajectory()\n",
    "traj.flow(1000)\n",
    "while not traj.is_closed():\n",
    "    traj.flow(1000)\n",
    "labels=[seg.polygon_label() for seg in traj.segments()]\n",
    "p=m.plot(labels,label_to_color=label_to_color)+line3d(m(traj),radius=0.04)\n",
    "#p"
   ]
  },
  {
   "cell_type": "code",
   "execution_count": null,
   "id": "9602b39e",
   "metadata": {
    "deletable": true,
    "editable": true,
    "jupyter": {
     "outputs_hidden": false
    }
   },
   "outputs": [],
   "source": [
    "show(p,frame=False,viewer=\"tachyon\")"
   ]
  },
  {
   "cell_type": "code",
   "execution_count": null,
   "id": "ae002904",
   "metadata": {
    "deletable": true,
    "editable": true,
    "jupyter": {
     "outputs_hidden": false
    }
   },
   "outputs": [],
   "source": [
    "#show(p,frame=False)"
   ]
  }
 ],
 "metadata": {
  "jupytext": {
   "formats": "ipynb,md:myst"
  },
  "kernelspec": {
   "display_name": "SageMath 9.2",
   "language": "sage",
   "name": "sagemath"
  }
 },
 "nbformat": 4,
 "nbformat_minor": 5
}
