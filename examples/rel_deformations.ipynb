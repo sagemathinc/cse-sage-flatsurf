{
 "cells": [
  {
   "cell_type": "markdown",
   "id": "30d621e8",
   "metadata": {
    "deletable": true,
    "editable": true
   },
   "source": [
    "# Relative Period Deformations\n",
    "\n",
    "Initial version by Pat Hooper <whooper@ccny.cuny.edu>, Dec. 16, 2017."
   ]
  },
  {
   "cell_type": "code",
   "execution_count": null,
   "id": "e59f2f04",
   "metadata": {
    "deletable": true,
    "editable": true,
    "jupyter": {
     "outputs_hidden": true
    }
   },
   "outputs": [],
   "source": [
    "from flatsurf import *"
   ]
  },
  {
   "cell_type": "markdown",
   "id": "bb7505f5",
   "metadata": {
    "deletable": true,
    "editable": true
   },
   "source": [
    "## The Arnoux-Yoccoz surface"
   ]
  },
  {
   "cell_type": "code",
   "execution_count": null,
   "id": "9235c1b5",
   "metadata": {
    "deletable": true,
    "editable": true,
    "jupyter": {
     "outputs_hidden": true
    }
   },
   "outputs": [],
   "source": [
    "s = translation_surfaces.arnoux_yoccoz(3).canonicalize()"
   ]
  },
  {
   "cell_type": "code",
   "execution_count": null,
   "id": "2a8a8ef8",
   "metadata": {
    "deletable": true,
    "editable": true,
    "jupyter": {
     "outputs_hidden": false
    }
   },
   "outputs": [],
   "source": [
    "s.plot()"
   ]
  },
  {
   "cell_type": "code",
   "execution_count": null,
   "id": "55d41a84",
   "metadata": {
    "deletable": true,
    "editable": true,
    "jupyter": {
     "outputs_hidden": false
    }
   },
   "outputs": [],
   "source": [
    "field=s.base_ring()\n",
    "field"
   ]
  },
  {
   "cell_type": "code",
   "execution_count": null,
   "id": "ebcb49fe",
   "metadata": {
    "deletable": true,
    "editable": true,
    "jupyter": {
     "outputs_hidden": false
    }
   },
   "outputs": [],
   "source": [
    "alpha = field.gen()\n",
    "AA(alpha)"
   ]
  },
  {
   "cell_type": "code",
   "execution_count": null,
   "id": "28a4761c",
   "metadata": {
    "deletable": true,
    "editable": true,
    "jupyter": {
     "outputs_hidden": false
    }
   },
   "outputs": [],
   "source": [
    "m=matrix(field,[[alpha,0],[0,1/alpha]])\n",
    "show(m)"
   ]
  },
  {
   "cell_type": "markdown",
   "id": "620e0b8d",
   "metadata": {
    "deletable": true,
    "editable": true
   },
   "source": [
    "Check that $m$ is the derivative of a pseudo-Anosov of $s$."
   ]
  },
  {
   "cell_type": "code",
   "execution_count": null,
   "id": "f441cfff",
   "metadata": {
    "deletable": true,
    "editable": true,
    "jupyter": {
     "outputs_hidden": false
    }
   },
   "outputs": [],
   "source": [
    "(m*s).canonicalize()==s"
   ]
  },
  {
   "cell_type": "markdown",
   "id": "0d006143",
   "metadata": {
    "deletable": true,
    "editable": true
   },
   "source": [
    "## Rel deformation\n",
    "\n",
    "A singularity of the surface is an equivalence class of vertices of the polygons making up the surface."
   ]
  },
  {
   "cell_type": "code",
   "execution_count": null,
   "id": "a410bf47",
   "metadata": {
    "deletable": true,
    "editable": true,
    "jupyter": {
     "outputs_hidden": false
    }
   },
   "outputs": [],
   "source": [
    "s.singularity(0,0)"
   ]
  },
  {
   "cell_type": "markdown",
   "id": "bccdd16b",
   "metadata": {
    "deletable": true,
    "editable": true
   },
   "source": [
    "We'll move this singularity to the right by two different amounts:"
   ]
  },
  {
   "cell_type": "code",
   "execution_count": null,
   "id": "c04732db",
   "metadata": {
    "deletable": true,
    "editable": true,
    "jupyter": {
     "outputs_hidden": false
    }
   },
   "outputs": [],
   "source": [
    "s1=s.rel_deformation({s.singularity(0,0):vector(field,(alpha/(1-alpha),0))}).canonicalize()"
   ]
  },
  {
   "cell_type": "code",
   "execution_count": null,
   "id": "10bf8830",
   "metadata": {
    "deletable": true,
    "editable": true,
    "jupyter": {
     "outputs_hidden": true
    }
   },
   "outputs": [],
   "source": [
    "s2=s.rel_deformation({s.singularity(0,0):vector(field,(1/(1-alpha),0))}).canonicalize()"
   ]
  },
  {
   "cell_type": "code",
   "execution_count": null,
   "id": "9bb4f0e9",
   "metadata": {
    "deletable": true,
    "editable": true,
    "jupyter": {
     "outputs_hidden": true
    }
   },
   "outputs": [],
   "source": [
    "# Note that by the action of the derivative of the pseudo-Anosov we have:"
   ]
  },
  {
   "cell_type": "code",
   "execution_count": null,
   "id": "fe5a27f5",
   "metadata": {
    "deletable": true,
    "editable": true,
    "jupyter": {
     "outputs_hidden": false
    }
   },
   "outputs": [],
   "source": [
    "s1==m*s2"
   ]
  },
  {
   "cell_type": "markdown",
   "id": "83870417",
   "metadata": {
    "deletable": true,
    "editable": true
   },
   "source": [
    "By a Theorem of Barak Weiss and the author of this notebook, these surfaces are all periodic in the vertical direction. You can see the vertical cylinders:"
   ]
  },
  {
   "cell_type": "code",
   "execution_count": null,
   "id": "868b0ec9",
   "metadata": {
    "deletable": true,
    "editable": true,
    "jupyter": {
     "outputs_hidden": false
    }
   },
   "outputs": [],
   "source": [
    "s1.plot()"
   ]
  }
 ],
 "metadata": {
  "jupytext": {
   "formats": "ipynb,md:myst"
  },
  "kernelspec": {
   "display_name": "SageMath 9.2",
   "language": "sage",
   "name": "sagemath"
  }
 },
 "nbformat": 4,
 "nbformat_minor": 5
}
