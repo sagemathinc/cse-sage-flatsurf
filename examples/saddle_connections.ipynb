{
 "cells": [
  {
   "cell_type": "markdown",
   "id": "be3d318c",
   "metadata": {
    "deletable": true,
    "editable": true
   },
   "source": [
    "# Saddle Connection Demo\n",
    "\n",
    "Initial version by Pat Hooper <whooper@ccny.cuny.edu> on Dec. 16, 2017."
   ]
  },
  {
   "cell_type": "code",
   "execution_count": null,
   "id": "e3eafbfb",
   "metadata": {
    "deletable": true,
    "editable": true,
    "jupyter": {
     "outputs_hidden": true
    }
   },
   "outputs": [],
   "source": [
    "from flatsurf import *"
   ]
  },
  {
   "cell_type": "code",
   "execution_count": null,
   "id": "a7fd5a62",
   "metadata": {
    "deletable": true,
    "editable": true,
    "jupyter": {
     "outputs_hidden": true
    }
   },
   "outputs": [],
   "source": [
    "s = translation_surfaces.veech_double_n_gon(5)"
   ]
  },
  {
   "cell_type": "code",
   "execution_count": null,
   "id": "0718f2d5",
   "metadata": {
    "deletable": true,
    "editable": true,
    "jupyter": {
     "outputs_hidden": false
    }
   },
   "outputs": [],
   "source": [
    "s.plot()"
   ]
  },
  {
   "cell_type": "markdown",
   "id": "fd257d7c",
   "metadata": {
    "deletable": true,
    "editable": true
   },
   "source": [
    "We get a list of all saddle connections of length less than 10."
   ]
  },
  {
   "cell_type": "code",
   "execution_count": null,
   "id": "1425b1d8",
   "metadata": {
    "deletable": true,
    "editable": true,
    "jupyter": {
     "outputs_hidden": false
    }
   },
   "outputs": [],
   "source": [
    "sc_list = s.saddle_connections(10)\n",
    "len(sc_list)"
   ]
  },
  {
   "cell_type": "markdown",
   "id": "b9b574a6",
   "metadata": {
    "deletable": true,
    "editable": true
   },
   "source": [
    "The following removes duplicate saddle connections which appear with opposite orientations."
   ]
  },
  {
   "cell_type": "code",
   "execution_count": null,
   "id": "e8d53a44",
   "metadata": {
    "deletable": true,
    "editable": true,
    "jupyter": {
     "outputs_hidden": false
    }
   },
   "outputs": [],
   "source": [
    "sc_set = set()\n",
    "for sc in sc_list:\n",
    "    if sc.invert() not in sc_set:\n",
    "        sc_set.add(sc)\n",
    "sc_list2 = [sc for sc in sc_set]\n",
    "len(sc_list2)"
   ]
  },
  {
   "cell_type": "markdown",
   "id": "b981d7e5",
   "metadata": {
    "deletable": true,
    "editable": true
   },
   "source": [
    "We pick two saddle connections:"
   ]
  },
  {
   "cell_type": "code",
   "execution_count": null,
   "id": "66bbfa9e",
   "metadata": {
    "deletable": true,
    "editable": true,
    "jupyter": {
     "outputs_hidden": false
    }
   },
   "outputs": [],
   "source": [
    "sc1 = sc_list2[-1]\n",
    "sc2 = sc_list2[-2]"
   ]
  },
  {
   "cell_type": "markdown",
   "id": "a20b4cf9",
   "metadata": {
    "deletable": true,
    "editable": true
   },
   "source": [
    "We can find their holonomies and other information about them using methods."
   ]
  },
  {
   "cell_type": "code",
   "execution_count": null,
   "id": "495f65a3",
   "metadata": {
    "deletable": true,
    "editable": true,
    "jupyter": {
     "outputs_hidden": false
    }
   },
   "outputs": [],
   "source": [
    "print(\"Holonomy of sc1 is\"+str(sc1.holonomy())+\" = \"+str(sc1.holonomy().n()))\n",
    "print(\"Holonomy of sc2 is\"+str(sc2.holonomy())+\" = \"+str(sc2.holonomy().n()))"
   ]
  },
  {
   "cell_type": "code",
   "execution_count": null,
   "id": "7e7beed2",
   "metadata": {
    "deletable": true,
    "editable": true,
    "jupyter": {
     "outputs_hidden": false
    }
   },
   "outputs": [],
   "source": [
    "s.plot() + sc1.plot() + sc2.plot(color=\"green\")"
   ]
  },
  {
   "cell_type": "markdown",
   "id": "5fe338e9",
   "metadata": {
    "deletable": true,
    "editable": true
   },
   "source": [
    "We can test that they intersect. By default the singularity does not count."
   ]
  },
  {
   "cell_type": "code",
   "execution_count": null,
   "id": "e9b2e986",
   "metadata": {
    "deletable": true,
    "editable": true,
    "jupyter": {
     "outputs_hidden": false
    }
   },
   "outputs": [],
   "source": [
    "sc1.intersects(sc2)"
   ]
  },
  {
   "cell_type": "markdown",
   "id": "e9396069",
   "metadata": {
    "deletable": true,
    "editable": true
   },
   "source": [
    "We can get an iterator over the set of intersection points:"
   ]
  },
  {
   "cell_type": "code",
   "execution_count": null,
   "id": "18776e62",
   "metadata": {
    "deletable": true,
    "editable": true,
    "jupyter": {
     "outputs_hidden": false
    }
   },
   "outputs": [],
   "source": [
    "for p in sc1.intersections(sc2):\n",
    "    print(p)"
   ]
  },
  {
   "cell_type": "markdown",
   "id": "0e61e015",
   "metadata": {
    "deletable": true,
    "editable": true
   },
   "source": [
    "It is a good idea to store the intersections in a list if you want to reuse them:"
   ]
  },
  {
   "cell_type": "code",
   "execution_count": null,
   "id": "938e1721",
   "metadata": {
    "deletable": true,
    "editable": true,
    "jupyter": {
     "outputs_hidden": false
    }
   },
   "outputs": [],
   "source": [
    "intersections = [p for p in sc1.intersections(sc2)]"
   ]
  },
  {
   "cell_type": "markdown",
   "id": "5c52ea5a",
   "metadata": {
    "deletable": true,
    "editable": true
   },
   "source": [
    "We can plot the intersection points:"
   ]
  },
  {
   "cell_type": "code",
   "execution_count": null,
   "id": "80171198",
   "metadata": {
    "deletable": true,
    "editable": true,
    "jupyter": {
     "outputs_hidden": false
    }
   },
   "outputs": [],
   "source": [
    "plot = s.plot() + sc1.plot() + sc2.plot(color=\"green\")\n",
    "for p in intersections:\n",
    "    plot += p.plot(color=\"red\", zorder=3)\n",
    "plot"
   ]
  },
  {
   "cell_type": "markdown",
   "id": "283ccbb3",
   "metadata": {
    "deletable": true,
    "editable": true
   },
   "source": [
    "We can plot all the saddle connections:"
   ]
  },
  {
   "cell_type": "code",
   "execution_count": null,
   "id": "059f1e71",
   "metadata": {
    "deletable": true,
    "editable": true,
    "jupyter": {
     "outputs_hidden": false
    }
   },
   "outputs": [],
   "source": [
    "plot=s.plot(edge_labels=False, polygon_labels=False)\n",
    "for sc in sc_list:\n",
    "    plot += sc.plot(thickness=0.05)\n",
    "plot"
   ]
  },
  {
   "cell_type": "markdown",
   "id": "067befd0",
   "metadata": {},
   "source": [
    "We will build a subset of the saddle connection graph where vertices are saddle connections and two vertices are joined by an edge if and only if the saddle connections do not intersect (on their interiors)."
   ]
  },
  {
   "cell_type": "code",
   "execution_count": null,
   "id": "76d68bd2",
   "metadata": {
    "deletable": true,
    "editable": true,
    "jupyter": {
     "outputs_hidden": false
    }
   },
   "outputs": [],
   "source": [
    "# Build intersection graph\n",
    "d={}\n",
    "for i in range(len(sc_list2)):\n",
    "    for j in range(i+1,len(sc_list2)):\n",
    "        if not sc_list2[i].intersects(sc_list2[j]):\n",
    "            if i not in d:\n",
    "                d[i]=[j]\n",
    "            else:\n",
    "                d[i].append(j)\n",
    "            if j not in d:\n",
    "                d[j]=[i]\n",
    "            else:\n",
    "                d[j].append(i)"
   ]
  },
  {
   "cell_type": "code",
   "execution_count": null,
   "id": "5bf3a755",
   "metadata": {
    "deletable": true,
    "editable": true,
    "jupyter": {
     "outputs_hidden": false
    }
   },
   "outputs": [],
   "source": [
    "g=Graph(d)"
   ]
  },
  {
   "cell_type": "markdown",
   "id": "6de83bba",
   "metadata": {},
   "source": [
    "We place the vertex of a saddle connection with holonomy $z \\in {\\mathbb C}$ at the point $z^2$."
   ]
  },
  {
   "cell_type": "code",
   "execution_count": null,
   "id": "0cbd0cd7",
   "metadata": {
    "deletable": true,
    "editable": true,
    "jupyter": {
     "outputs_hidden": false
    }
   },
   "outputs": [],
   "source": [
    "pos={}\n",
    "for i in range(len(sc_list2)):\n",
    "    sc = sc_list2[i]\n",
    "    val = sc.holonomy().n()\n",
    "    z = val[0]+I*val[1]\n",
    "    w = z**2/z.abs()\n",
    "    pos[i]=(w.real(),w.imag())"
   ]
  },
  {
   "cell_type": "code",
   "execution_count": null,
   "id": "b8f81e57",
   "metadata": {
    "deletable": true,
    "editable": true,
    "jupyter": {
     "outputs_hidden": false
    }
   },
   "outputs": [],
   "source": [
    "g.plot(pos=pos,vertex_labels=False,vertex_size=0)"
   ]
  }
 ],
 "metadata": {
  "jupytext": {
   "formats": "ipynb,md:myst"
  },
  "kernelspec": {
   "display_name": "SageMath 9.2",
   "language": "sage",
   "name": "sagemath"
  }
 },
 "nbformat": 4,
 "nbformat_minor": 5
}
