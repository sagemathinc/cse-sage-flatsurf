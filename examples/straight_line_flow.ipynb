{
 "cells": [
  {
   "cell_type": "markdown",
   "id": "a30973cc",
   "metadata": {
    "deletable": true,
    "editable": true
   },
   "source": [
    "# Straight-line flow\n",
    "\n",
    "Initial version by Pat Hooper <whooper@ccny.cuny.edu>, Dec 16, 2017."
   ]
  },
  {
   "cell_type": "code",
   "execution_count": null,
   "id": "2ccbc351",
   "metadata": {
    "deletable": true,
    "editable": true,
    "jupyter": {
     "outputs_hidden": true
    }
   },
   "outputs": [],
   "source": [
    "from flatsurf import *"
   ]
  },
  {
   "cell_type": "markdown",
   "id": "2dbf0621",
   "metadata": {
    "deletable": true,
    "editable": true
   },
   "source": [
    "## Acting on surfaces by matrices."
   ]
  },
  {
   "cell_type": "code",
   "execution_count": null,
   "id": "214b5424",
   "metadata": {
    "deletable": true,
    "editable": true,
    "jupyter": {
     "outputs_hidden": true
    }
   },
   "outputs": [],
   "source": [
    "s = translation_surfaces.veech_double_n_gon(5)"
   ]
  },
  {
   "cell_type": "code",
   "execution_count": null,
   "id": "7370db2d",
   "metadata": {
    "deletable": true,
    "editable": true,
    "jupyter": {
     "outputs_hidden": false
    }
   },
   "outputs": [],
   "source": [
    "s.plot()"
   ]
  },
  {
   "cell_type": "markdown",
   "id": "ce30ca0b",
   "metadata": {
    "deletable": true,
    "editable": true
   },
   "source": [
    "Defines the tangent_bundle on the surface defined over the base_ring of s."
   ]
  },
  {
   "cell_type": "code",
   "execution_count": null,
   "id": "8939b801",
   "metadata": {
    "deletable": true,
    "editable": true,
    "jupyter": {
     "outputs_hidden": false
    }
   },
   "outputs": [],
   "source": [
    "TB = s.tangent_bundle()"
   ]
  },
  {
   "cell_type": "code",
   "execution_count": null,
   "id": "d11a73b8",
   "metadata": {
    "deletable": true,
    "editable": true,
    "jupyter": {
     "outputs_hidden": false
    }
   },
   "outputs": [],
   "source": [
    "baricenter = sum(s.polygon(0).vertices())/5"
   ]
  },
  {
   "cell_type": "markdown",
   "id": "1eb7e487",
   "metadata": {
    "deletable": true,
    "editable": true
   },
   "source": [
    "Define the tangent vector based at the baricenter of polygon 0 aimed downward."
   ]
  },
  {
   "cell_type": "code",
   "execution_count": null,
   "id": "45bd870c",
   "metadata": {
    "deletable": true,
    "editable": true,
    "jupyter": {
     "outputs_hidden": true
    }
   },
   "outputs": [],
   "source": [
    "v = TB(0, baricenter, (0,-1))"
   ]
  },
  {
   "cell_type": "markdown",
   "id": "f4390697",
   "metadata": {
    "deletable": true,
    "editable": true
   },
   "source": [
    "Convert to a straight-line trajectory. Trajectories are unions of segments in polygons."
   ]
  },
  {
   "cell_type": "code",
   "execution_count": null,
   "id": "5b1fe3d9",
   "metadata": {
    "deletable": true,
    "editable": true,
    "jupyter": {
     "outputs_hidden": true
    }
   },
   "outputs": [],
   "source": [
    "traj = v.straight_line_trajectory()"
   ]
  },
  {
   "cell_type": "code",
   "execution_count": null,
   "id": "2aaeae8d",
   "metadata": {
    "deletable": true,
    "editable": true,
    "jupyter": {
     "outputs_hidden": false
    }
   },
   "outputs": [],
   "source": [
    "s.plot()+traj.plot()"
   ]
  },
  {
   "cell_type": "markdown",
   "id": "f53e08dc",
   "metadata": {
    "deletable": true,
    "editable": true
   },
   "source": [
    "Flow into the next $100$ polygons or until the trajectory hits a vertex."
   ]
  },
  {
   "cell_type": "code",
   "execution_count": null,
   "id": "d75d5a90",
   "metadata": {
    "deletable": true,
    "editable": true,
    "jupyter": {
     "outputs_hidden": true
    }
   },
   "outputs": [],
   "source": [
    "traj.flow(100)"
   ]
  },
  {
   "cell_type": "code",
   "execution_count": null,
   "id": "090a870d",
   "metadata": {
    "deletable": true,
    "editable": true,
    "jupyter": {
     "outputs_hidden": false
    }
   },
   "outputs": [],
   "source": [
    "s.plot()+traj.plot()"
   ]
  },
  {
   "cell_type": "markdown",
   "id": "78f1c72a",
   "metadata": {
    "deletable": true,
    "editable": true
   },
   "source": [
    "We can tell its type."
   ]
  },
  {
   "cell_type": "code",
   "execution_count": null,
   "id": "e78c4340",
   "metadata": {
    "deletable": true,
    "editable": true,
    "jupyter": {
     "outputs_hidden": false
    }
   },
   "outputs": [],
   "source": [
    "traj.is_saddle_connection()"
   ]
  },
  {
   "cell_type": "markdown",
   "id": "8f9a250a",
   "metadata": {
    "deletable": true,
    "editable": true
   },
   "source": [
    "You can also test if a straight-line trajectory is closed or a forward/backward separatrix.\n",
    "\n",
    "Lets do it again but in the slope one direction."
   ]
  },
  {
   "cell_type": "code",
   "execution_count": null,
   "id": "b3877c5b",
   "metadata": {
    "deletable": true,
    "editable": true,
    "jupyter": {
     "outputs_hidden": false
    }
   },
   "outputs": [],
   "source": [
    "v = TB(0, baricenter, (1,1))"
   ]
  },
  {
   "cell_type": "code",
   "execution_count": null,
   "id": "b0cc9999",
   "metadata": {
    "deletable": true,
    "editable": true,
    "jupyter": {
     "outputs_hidden": true
    }
   },
   "outputs": [],
   "source": [
    "traj=v.straight_line_trajectory()"
   ]
  },
  {
   "cell_type": "code",
   "execution_count": null,
   "id": "1bb77f71",
   "metadata": {
    "deletable": true,
    "editable": true,
    "jupyter": {
     "outputs_hidden": true
    }
   },
   "outputs": [],
   "source": [
    "traj.flow(100)"
   ]
  },
  {
   "cell_type": "code",
   "execution_count": null,
   "id": "cee8c56a",
   "metadata": {
    "deletable": true,
    "editable": true,
    "jupyter": {
     "outputs_hidden": false
    }
   },
   "outputs": [],
   "source": [
    "s.plot()+traj.plot()"
   ]
  },
  {
   "cell_type": "markdown",
   "id": "435f98b4",
   "metadata": {
    "deletable": true,
    "editable": true
   },
   "source": [
    "We remark that it follows from work of Veech that the slope one direction is ergodic for the straight-line flow."
   ]
  }
 ],
 "metadata": {
  "jupytext": {
   "formats": "ipynb,md:myst"
  },
  "kernelspec": {
   "display_name": "SageMath 9.2",
   "language": "sage",
   "name": "sagemath"
  }
 },
 "nbformat": 4,
 "nbformat_minor": 5
}
